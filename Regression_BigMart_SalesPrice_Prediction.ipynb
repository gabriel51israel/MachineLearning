{
  "nbformat": 4,
  "nbformat_minor": 0,
  "metadata": {
    "colab": {
      "name": "Regression_BigMart_SalesPrice_Prediction.ipynb",
      "provenance": [],
      "authorship_tag": "ABX9TyNVMp8/pa0uyPDF7pSJg5rE",
      "include_colab_link": true
    },
    "kernelspec": {
      "name": "python3",
      "display_name": "Python 3"
    }
  },
  "cells": [
    {
      "cell_type": "markdown",
      "metadata": {
        "id": "view-in-github",
        "colab_type": "text"
      },
      "source": [
        "<a href=\"https://colab.research.google.com/github/gabriel51israel/MachineLearning/blob/main/Regression_BigMart_SalesPrice_Prediction.ipynb\" target=\"_parent\"><img src=\"https://colab.research.google.com/assets/colab-badge.svg\" alt=\"Open In Colab\"/></a>"
      ]
    },
    {
      "cell_type": "code",
      "metadata": {
        "id": "htC-WMhqnSFG"
      },
      "source": [
        "import pandas as pd\r\n",
        "import seaborn as sns\r\n",
        "import numpy as np\r\n",
        "import matplotlib.pyplot as plt\r\n",
        "%matplotlib inline\r\n",
        "import warnings\r\n",
        "warnings.filterwarnings('ignore')"
      ],
      "execution_count": null,
      "outputs": []
    },
    {
      "cell_type": "markdown",
      "metadata": {
        "id": "MzuRSL_BoJgO"
      },
      "source": [
        "**Data Investigation**"
      ]
    },
    {
      "cell_type": "code",
      "metadata": {
        "id": "4EdhsPYdnYul"
      },
      "source": [
        "bigmart_data = pd.read_csv('Train.csv')\r\n",
        "bigmart_data.head()"
      ],
      "execution_count": null,
      "outputs": []
    },
    {
      "cell_type": "code",
      "metadata": {
        "id": "zHAXi0MUncB-"
      },
      "source": [
        "bigmart_data.shape"
      ],
      "execution_count": null,
      "outputs": []
    },
    {
      "cell_type": "code",
      "metadata": {
        "id": "ZqB4u4ienjSB"
      },
      "source": [
        "bigmart_data.info()"
      ],
      "execution_count": null,
      "outputs": []
    },
    {
      "cell_type": "code",
      "metadata": {
        "id": "KsQmGe4Fnl2-"
      },
      "source": [
        "bigmart_data.apply(lambda x: len(x.unique()))"
      ],
      "execution_count": null,
      "outputs": []
    },
    {
      "cell_type": "code",
      "metadata": {
        "id": "ZcXEwDUxnpDw"
      },
      "source": [
        "bigmart_data.isnull().sum()"
      ],
      "execution_count": null,
      "outputs": []
    },
    {
      "cell_type": "code",
      "metadata": {
        "id": "EdXL5bzUntmr"
      },
      "source": [
        "# Check for Categorical/ Object variables\r\n",
        "cat_col = []\r\n",
        "for i in bigmart_data.dtypes.index:\r\n",
        "  if bigmart_data.dtypes[i] == \"object\":\r\n",
        "    cat_col.append(i)\r\n",
        "\r\n",
        "cat_col"
      ],
      "execution_count": null,
      "outputs": []
    },
    {
      "cell_type": "code",
      "metadata": {
        "id": "84YAGN4sny8T"
      },
      "source": [
        "#Remove Identifier inside this object list\r\n",
        "cat_col.remove('Item_Identifier')\r\n",
        "cat_col.remove('Outlet_Identifier')"
      ],
      "execution_count": null,
      "outputs": []
    },
    {
      "cell_type": "code",
      "metadata": {
        "id": "eSzQvuuGn660"
      },
      "source": [
        "cat_col"
      ],
      "execution_count": null,
      "outputs": []
    },
    {
      "cell_type": "code",
      "metadata": {
        "id": "xTaxzLZFn93N"
      },
      "source": [
        "for col_name in cat_col:\r\n",
        "  print(col_name)\r\n",
        "  print(bigmart_data[col_name].value_counts(),\"\\n\")"
      ],
      "execution_count": null,
      "outputs": []
    },
    {
      "cell_type": "markdown",
      "metadata": {
        "id": "tSVVwMBbodW7"
      },
      "source": [
        "**Data Cleaning**"
      ]
    },
    {
      "cell_type": "code",
      "metadata": {
        "id": "XN-nfW_CokQ2"
      },
      "source": [
        "bigmart_data.isnull().sum()"
      ],
      "execution_count": null,
      "outputs": []
    },
    {
      "cell_type": "code",
      "metadata": {
        "id": "2mGgZYgsorjW"
      },
      "source": [
        "bigmart_data['Item_Weight']=bigmart_data['Item_Weight'].fillna(bigmart_data['Item_Weight'].mean())"
      ],
      "execution_count": null,
      "outputs": []
    },
    {
      "cell_type": "code",
      "metadata": {
        "id": "N1ysxrqGo1C2"
      },
      "source": [
        "bigmart_data['Outlet_Size'] = bigmart_data['Outlet_Size'].fillna(bigmart_data['Outlet_Size'].mode()[0])"
      ],
      "execution_count": null,
      "outputs": []
    },
    {
      "cell_type": "code",
      "metadata": {
        "id": "eMdeMl81o2U5"
      },
      "source": [
        "sum(bigmart_data['Item_Visibility']==0)"
      ],
      "execution_count": null,
      "outputs": []
    },
    {
      "cell_type": "code",
      "metadata": {
        "id": "FKsOJEMio8R4"
      },
      "source": [
        "bigmart_data.loc[:,'Item_Visibility'].replace([0],[bigmart_data['Item_Visibility'].mean()],inplace=True)"
      ],
      "execution_count": null,
      "outputs": []
    },
    {
      "cell_type": "code",
      "metadata": {
        "id": "If56ds1vpJWx"
      },
      "source": [
        "bigmart_data['Item_Fat_Content'] = bigmart_data['Item_Fat_Content'].replace({'LF':'Low Fat','low fat': 'Low Fat','low fat':'Low Fat','reg':'Regular'})"
      ],
      "execution_count": null,
      "outputs": []
    },
    {
      "cell_type": "code",
      "metadata": {
        "id": "e8f5lkK4pNJW"
      },
      "source": [
        "bigmart_data['Item_Fat_Content'].value_counts()"
      ],
      "execution_count": null,
      "outputs": []
    },
    {
      "cell_type": "code",
      "metadata": {
        "id": "bm0QdVFFqNjr"
      },
      "source": [
        "# Creating New features/Attributes\r\n",
        "bigmart_data['New_Item_type'] = bigmart_data['Item_Identifier'].apply(lambda x:x[:2])"
      ],
      "execution_count": null,
      "outputs": []
    },
    {
      "cell_type": "code",
      "metadata": {
        "id": "myuE2OJsqSe3"
      },
      "source": [
        "bigmart_data['New_Item_type'] = bigmart_data['New_Item_type'].map({'FD':'Food','NC':'Non-Consumable','DR':'Drinks'})"
      ],
      "execution_count": null,
      "outputs": []
    },
    {
      "cell_type": "code",
      "metadata": {
        "id": "8A-lyI6jqYpc"
      },
      "source": [
        "bigmart_data['New_Item_type'].value_counts()"
      ],
      "execution_count": null,
      "outputs": []
    },
    {
      "cell_type": "code",
      "metadata": {
        "id": "okkozL4wqc69"
      },
      "source": [
        "bigmart_data.head()"
      ],
      "execution_count": null,
      "outputs": []
    },
    {
      "cell_type": "code",
      "metadata": {
        "id": "qD665SGVqfqd"
      },
      "source": [
        "bigmart_data.loc[bigmart_data['New_Item_type']==\"Non-Consumable\", \"Item_Fat_Content\"] = 'Non-Edible'"
      ],
      "execution_count": null,
      "outputs": []
    },
    {
      "cell_type": "code",
      "metadata": {
        "id": "H9QKFOv3qjly"
      },
      "source": [
        "bigmart_data['Item_Fat_Content'].value_counts()"
      ],
      "execution_count": null,
      "outputs": []
    },
    {
      "cell_type": "code",
      "metadata": {
        "id": "7CSFpfpKqrLd"
      },
      "source": [
        "bigmart_data['Outlet_years']=2013 - bigmart_data['Outlet_Establishment_Year']"
      ],
      "execution_count": null,
      "outputs": []
    },
    {
      "cell_type": "code",
      "metadata": {
        "id": "1aR67w9GqvhF"
      },
      "source": [
        "bigmart_data.head()"
      ],
      "execution_count": null,
      "outputs": []
    },
    {
      "cell_type": "markdown",
      "metadata": {
        "id": "Anh2Kpsuq7A3"
      },
      "source": [
        "**Visualization**\r\n",
        "*italicized text*\r\n",
        "*Integer/Float datatype*"
      ]
    },
    {
      "cell_type": "code",
      "metadata": {
        "id": "dR_sHylYrDnW"
      },
      "source": [
        "sns.distplot(bigmart_data['Item_Weight'])"
      ],
      "execution_count": null,
      "outputs": []
    },
    {
      "cell_type": "code",
      "metadata": {
        "id": "mAHQ7cIGr0Dg"
      },
      "source": [
        "sns.distplot(bigmart_data['Item_Visibility'])"
      ],
      "execution_count": null,
      "outputs": []
    },
    {
      "cell_type": "code",
      "metadata": {
        "id": "RaNLw3TAr2f6"
      },
      "source": [
        "sns.distplot(bigmart_data['Item_MRP'])"
      ],
      "execution_count": null,
      "outputs": []
    },
    {
      "cell_type": "code",
      "metadata": {
        "id": "e7WK8yQ3r7-I"
      },
      "source": [
        "sns.distplot(bigmart_data['Outlet_years'])"
      ],
      "execution_count": null,
      "outputs": []
    },
    {
      "cell_type": "code",
      "metadata": {
        "id": "ml38msrTr_bV"
      },
      "source": [
        "sns.distplot(bigmart_data['Item_Outlet_Sales'])"
      ],
      "execution_count": null,
      "outputs": []
    },
    {
      "cell_type": "markdown",
      "metadata": {
        "id": "mMVZjeZ2sdqA"
      },
      "source": [
        "**Normalizing/Log Transforming the predictor variable**"
      ]
    },
    {
      "cell_type": "code",
      "metadata": {
        "id": "dXb-Vx1as5N1"
      },
      "source": [
        "bigmart_data['Item_Outlet_Sales'] = np.log(1 + bigmart_data['Item_Outlet_Sales'])"
      ],
      "execution_count": null,
      "outputs": []
    },
    {
      "cell_type": "code",
      "metadata": {
        "id": "BCHuPf_mtAoh"
      },
      "source": [
        "sns.distplot(bigmart_data['Item_Outlet_Sales'])"
      ],
      "execution_count": null,
      "outputs": []
    },
    {
      "cell_type": "markdown",
      "metadata": {
        "id": "3YQWXOgNtanI"
      },
      "source": [
        "**Visualization**\r\n",
        "\r\n",
        "*Categorical Datatype*"
      ]
    },
    {
      "cell_type": "code",
      "metadata": {
        "id": "Sl8pxm7StyO9"
      },
      "source": [
        "sns.countplot(bigmart_data['Item_Fat_Content'])"
      ],
      "execution_count": null,
      "outputs": []
    },
    {
      "cell_type": "code",
      "metadata": {
        "id": "l8_jhEakt6gt"
      },
      "source": [
        "plt.figure(figsize=(30,10))\r\n",
        "sns.countplot(bigmart_data['Item_Type'])"
      ],
      "execution_count": null,
      "outputs": []
    },
    {
      "cell_type": "code",
      "metadata": {
        "id": "7gJksg3kt7S8"
      },
      "source": [
        "plt.figure(figsize=(30,10))\r\n",
        "sns.countplot(bigmart_data['Outlet_Identifier'])"
      ],
      "execution_count": null,
      "outputs": []
    },
    {
      "cell_type": "code",
      "metadata": {
        "id": "_a_6q8vFt9g2"
      },
      "source": [
        "sns.countplot(bigmart_data['Outlet_Size'])"
      ],
      "execution_count": null,
      "outputs": []
    },
    {
      "cell_type": "code",
      "metadata": {
        "id": "LJD9pPpht_0l"
      },
      "source": [
        "plt.figure(figsize=(30,10))\r\n",
        "sns.countplot(bigmart_data['Outlet_Type'])"
      ],
      "execution_count": null,
      "outputs": []
    },
    {
      "cell_type": "code",
      "metadata": {
        "id": "ViBsgq9yuBn8"
      },
      "source": [
        "sns.countplot(bigmart_data['New_Item_type'])"
      ],
      "execution_count": null,
      "outputs": []
    },
    {
      "cell_type": "code",
      "metadata": {
        "id": "HWe96J7GuDjd"
      },
      "source": [
        "sns.countplot(bigmart_data['Outlet_Establishment_Year'])"
      ],
      "execution_count": null,
      "outputs": []
    },
    {
      "cell_type": "markdown",
      "metadata": {
        "id": "__Y7us-kuNsE"
      },
      "source": [
        "**Check for Correlation**"
      ]
    },
    {
      "cell_type": "code",
      "metadata": {
        "id": "qYHCnWDquFrx"
      },
      "source": [
        "corr = bigmart_data.corr()\r\n",
        "sns.heatmap(corr,cmap='coolwarm',annot=True)"
      ],
      "execution_count": null,
      "outputs": []
    },
    {
      "cell_type": "code",
      "metadata": {
        "id": "Aj0VmXlSuHV6"
      },
      "source": [
        "bigmart_data.head()"
      ],
      "execution_count": null,
      "outputs": []
    },
    {
      "cell_type": "markdown",
      "metadata": {
        "id": "jUbcV8e7xYqV"
      },
      "source": [
        "**Apply Label Encoding/OneHot Encoding**"
      ]
    },
    {
      "cell_type": "code",
      "metadata": {
        "id": "lwAPlto5xhR4"
      },
      "source": [
        "from sklearn.preprocessing import LabelEncoder\r\n",
        "le = LabelEncoder()\r\n",
        "bigmart_data['Outlet']= le.fit_transform(bigmart_data['Outlet_Identifier'])\r\n",
        "bigmart_data['Item_Type'] = le.fit_transform(bigmart_data['Item_Type'])\r\n",
        "bigmart_data.head()"
      ],
      "execution_count": null,
      "outputs": []
    },
    {
      "cell_type": "code",
      "metadata": {
        "id": "0LXg4m7yx4z8"
      },
      "source": [
        "bigmart_data = pd.get_dummies(bigmart_data,columns=['Item_Fat_Content','Outlet_Size','Outlet_Location_Type','Outlet_Type','New_Item_type'], drop_first=True)\r\n",
        "bigmart_data.head()"
      ],
      "execution_count": null,
      "outputs": []
    },
    {
      "cell_type": "markdown",
      "metadata": {
        "id": "IVcxv5ZHyDPJ"
      },
      "source": [
        "**Model Building**"
      ]
    },
    {
      "cell_type": "code",
      "metadata": {
        "id": "3SvdJdaVyILh"
      },
      "source": [
        "X = bigmart_data.drop(columns=['Item_Identifier','Outlet_Establishment_Year','Outlet_Identifier','Item_Outlet_Sales'])\r\n",
        "y = bigmart_data['Item_Outlet_Sales']"
      ],
      "execution_count": null,
      "outputs": []
    },
    {
      "cell_type": "code",
      "metadata": {
        "id": "agGG3eJ8yMdT"
      },
      "source": [
        "from sklearn.model_selection import train_test_split\r\n",
        "X_train,X_test,y_train,y_test = train_test_split(X, y, test_size=0.3, random_state=0)"
      ],
      "execution_count": null,
      "outputs": []
    },
    {
      "cell_type": "code",
      "metadata": {
        "id": "1UhAhv6kyQoS"
      },
      "source": [
        "print(X_train.shape)\r\n",
        "print(X_test.shape)\r\n",
        "print(y_train.shape)\r\n",
        "print(y_test.shape)"
      ],
      "execution_count": null,
      "outputs": []
    },
    {
      "cell_type": "code",
      "metadata": {
        "id": "-il4tbSVyRnB"
      },
      "source": [
        "from sklearn.linear_model import LinearRegression,Ridge,Lasso\r\n",
        "model = LinearRegression()\r\n",
        "model.fit(X_train,y_train)\r\n",
        "y_pred = model.predict(X_test)\r\n",
        "\r\n",
        "# Accuracy Metric - R2 score --> should be close to 1 for a good model\r\n",
        "r_sq = model.score(X_train, y_train)\r\n",
        "print('coefficient of determination/R2 value:', r_sq)\r\n",
        "print(\"Coefficients/Slope : \\n\",model.coef_,\"\\n\")\r\n",
        "print(\"Intercepts :\\n\",model.intercept_)\r\n",
        "\r\n",
        "# Plotting the bar graph for Coefficient importance\r\n",
        "coeff = pd.Series(model.coef_,X_train.columns).sort_values()\r\n",
        "plt.figure(figsize =(10,8))\r\n",
        "coeff.plot(kind='bar',title=\"Model Coefficients\")\r\n",
        "\r\n",
        "#Model Report - MSE or CV \r\n",
        "from sklearn.metrics import mean_squared_error\r\n",
        "from sklearn.model_selection import cross_val_score\r\n",
        "print(\"Model Report\")\r\n",
        "print(\"MSE: \",mean_squared_error(y_test,y_pred))\r\n",
        "cv_score = cross_val_score(model,X_train,y_train,scoring = 'neg_mean_squared_error',cv=5)\r\n",
        "print(\"CV Score: \", cv_score)\r\n",
        "print(\"CV Score: \", np.abs(np.mean(cv_score)))"
      ],
      "execution_count": null,
      "outputs": []
    },
    {
      "cell_type": "code",
      "metadata": {
        "id": "-IR_EQrq0k64"
      },
      "source": [
        "model = Ridge(alpha=0.002,normalize=True)\r\n",
        "model.fit(X_train,y_train)\r\n",
        "y_pred = model.predict(X_test)\r\n",
        "\r\n",
        "# Accuracy Metric - R2 score --> should be close to 1 for a good model\r\n",
        "r_sq = model.score(X_train, y_train)\r\n",
        "print('coefficient of determination/R2 value:', r_sq)\r\n",
        "print(\"Coefficients/Slope : \\n\",model.coef_,\"\\n\")\r\n",
        "print(\"Intercepts :\\n\",model.intercept_)\r\n",
        "\r\n",
        "# Plotting the bar graph for Coefficient importance\r\n",
        "coeff = pd.Series(model.coef_,X_train.columns).sort_values()\r\n",
        "plt.figure(figsize =(10,8))\r\n",
        "coeff.plot(kind='bar',title=\"Model Coefficients\")\r\n",
        "\r\n",
        "#Model Report - MSE or CV \r\n",
        "from sklearn.metrics import mean_squared_error\r\n",
        "from sklearn.model_selection import cross_val_score\r\n",
        "print(\"Model Report\")\r\n",
        "print(\"MSE: \",mean_squared_error(y_test,y_pred))\r\n",
        "cv_score = cross_val_score(model,X_train,y_train,scoring = 'neg_mean_squared_error',cv=5)\r\n",
        "print(\"CV Score: \", cv_score)\r\n",
        "print(\"CV Score: \", np.abs(np.mean(cv_score)))"
      ],
      "execution_count": null,
      "outputs": []
    },
    {
      "cell_type": "code",
      "metadata": {
        "id": "nsGaI-CL1wyf"
      },
      "source": [
        "model = Lasso(alpha=0.001)\r\n",
        "model.fit(X_train,y_train)\r\n",
        "y_pred = model.predict(X_test)\r\n",
        "\r\n",
        "# Accuracy Metric - R2 score --> should be close to 1 for a good model\r\n",
        "r_sq = model.score(X_train, y_train)\r\n",
        "print('coefficient of determination/R2 value:', r_sq)\r\n",
        "print(\"Coefficients/Slope : \\n\",model.coef_,\"\\n\")\r\n",
        "print(\"Intercepts :\\n\",model.intercept_)\r\n",
        "\r\n",
        "# Plotting the bar graph for Coefficient importance\r\n",
        "coeff = pd.Series(model.coef_,X_train.columns).sort_values()\r\n",
        "plt.figure(figsize =(10,8))\r\n",
        "coeff.plot(kind='bar',title=\"Model Coefficients\")\r\n",
        "\r\n",
        "#Model Report - MSE or CV\r\n",
        "from sklearn.metrics import mean_squared_error\r\n",
        "from sklearn.model_selection import cross_val_score\r\n",
        "print(\"Model Report\")\r\n",
        "print(\"MSE: \",mean_squared_error(y_test,y_pred))\r\n",
        "cv_score = cross_val_score(model,X_train,y_train,scoring = 'neg_mean_squared_error',cv=5)\r\n",
        "print(\"CV Score: \", cv_score)\r\n",
        "print(\"CV Score: \", np.abs(np.mean(cv_score)))"
      ],
      "execution_count": null,
      "outputs": []
    },
    {
      "cell_type": "code",
      "metadata": {
        "id": "BgL9MPX812RE"
      },
      "source": [
        "from sklearn.tree import DecisionTreeRegressor\r\n",
        "model = DecisionTreeRegressor()\r\n",
        "model.fit(X_train,y_train)\r\n",
        "y_pred = model.predict(X_test)\r\n",
        "\r\n",
        "# Accuracy Metric - R2 score --> should be close to 1 for a good model\r\n",
        "r_sq = model.score(X_train, y_train)\r\n",
        "print('coefficient of determination/R2 value:', r_sq)\r\n",
        "\r\n",
        "# Plotting the bar graph for Coefficient importance\r\n",
        "coeff = pd.Series(model.feature_importances_,X_train.columns).sort_values()\r\n",
        "plt.figure(figsize =(10,8))\r\n",
        "coeff.plot(kind='bar',title=\"Model Coefficients\")\r\n",
        "\r\n",
        "#Model Report - MSE or CV\r\n",
        "from sklearn.metrics import mean_squared_error\r\n",
        "from sklearn.model_selection import cross_val_score\r\n",
        "print(\"Model Report\")\r\n",
        "print(\"MSE: \",mean_squared_error(y_test,y_pred))\r\n",
        "cv_score = cross_val_score(model,X_train,y_train,scoring = 'neg_mean_squared_error',cv=5)\r\n",
        "print(\"CV Score: \", cv_score)\r\n",
        "print(\"CV Score: \", np.abs(np.mean(cv_score)))"
      ],
      "execution_count": null,
      "outputs": []
    },
    {
      "cell_type": "code",
      "metadata": {
        "id": "HQiqTt8W3UM-"
      },
      "source": [
        "from sklearn.ensemble import RandomForestRegressor\r\n",
        "model = RandomForestRegressor()\r\n",
        "model.fit(X_train,y_train)\r\n",
        "y_pred = model.predict(X_test)\r\n",
        "\r\n",
        "# Accuracy Metric - R2 score --> should be close to 1 for a good model\r\n",
        "r_sq = model.score(X_train, y_train)\r\n",
        "print('coefficient of determination/R2 value:', r_sq)\r\n",
        "\r\n",
        "# Plotting the bar graph for Coefficient importance\r\n",
        "coeff = pd.Series(model.feature_importances_,X_train.columns).sort_values()\r\n",
        "plt.figure(figsize =(10,8))\r\n",
        "coeff.plot(kind='bar',title=\"Model Coefficients\")\r\n",
        "\r\n",
        "#Model Report - MSE or CV\r\n",
        "from sklearn.metrics import mean_squared_error\r\n",
        "from sklearn.model_selection import cross_val_score\r\n",
        "print(\"Model Report\")\r\n",
        "print(\"MSE: \",mean_squared_error(y_test,y_pred))\r\n",
        "cv_score = cross_val_score(model,X_train,y_train,scoring = 'neg_mean_squared_error',cv=5)\r\n",
        "print(\"CV Score: \", cv_score)\r\n",
        "print(\"CV Score: \", np.abs(np.mean(cv_score)))"
      ],
      "execution_count": null,
      "outputs": []
    },
    {
      "cell_type": "code",
      "metadata": {
        "id": "2f_eOJKk3pwg"
      },
      "source": [
        "from sklearn.ensemble import ExtraTreesRegressor\r\n",
        "model = ExtraTreesRegressor()\r\n",
        "model.fit(X_train,y_train)\r\n",
        "y_pred = model.predict(X_test)\r\n",
        "\r\n",
        "# Accuracy Metric - R2 score --> should be close to 1 for a good model\r\n",
        "r_sq = model.score(X_train, y_train)\r\n",
        "print('coefficient of determination/R2 value:', r_sq)\r\n",
        "\r\n",
        "# Plotting the bar graph for Coefficient importance\r\n",
        "coeff = pd.Series(model.feature_importances_,X_train.columns).sort_values()\r\n",
        "plt.figure(figsize =(10,8))\r\n",
        "coeff.plot(kind='bar',title=\"Model Coefficients\")\r\n",
        "\r\n",
        "#Model Report - MSE or CV\r\n",
        "from sklearn.metrics import mean_squared_error\r\n",
        "from sklearn.model_selection import cross_val_score\r\n",
        "print(\"Model Report\")\r\n",
        "print(\"MSE: \",mean_squared_error(y_test,y_pred))\r\n",
        "cv_score = cross_val_score(model,X_train,y_train,scoring = 'neg_mean_squared_error',cv=5)\r\n",
        "print(\"CV Score: \", cv_score)\r\n",
        "print(\"CV Score: \", np.abs(np.mean(cv_score)))"
      ],
      "execution_count": null,
      "outputs": []
    }
  ]
}